{
  "nbformat": 4,
  "nbformat_minor": 0,
  "metadata": {
    "colab": {
      "private_outputs": true,
      "provenance": [],
      "authorship_tag": "ABX9TyPPrFObH2kxAoJbBr2OtJgx",
      "include_colab_link": true
    },
    "kernelspec": {
      "name": "python3",
      "display_name": "Python 3"
    },
    "language_info": {
      "name": "python"
    }
  },
  "cells": [
    {
      "cell_type": "markdown",
      "metadata": {
        "id": "view-in-github",
        "colab_type": "text"
      },
      "source": [
        "<a href=\"https://colab.research.google.com/github/moushumipriya/AgroVet-Sales-Forecasting-ML/blob/main/AgroVet_Sales_Forecasting_ML.ipynb\" target=\"_parent\"><img src=\"https://colab.research.google.com/assets/colab-badge.svg\" alt=\"Open In Colab\"/></a>"
      ]
    },
    {
      "cell_type": "code",
      "source": [
        "import pandas as pd\n",
        "import numpy as np\n",
        "import matplotlib.pyplot as plt\n",
        "import seaborn as sns\n",
        "from sklearn.model_selection import train_test_split\n",
        "from sklearn.preprocessing import LabelEncoder, StandardScaler\n",
        "from sklearn.ensemble import RandomForestRegressor\n",
        "from sklearn.metrics import mean_absolute_error, mean_squared_error, r2_score\n",
        "import warnings\n",
        "warnings.filterwarnings('ignore')\n"
      ],
      "metadata": {
        "id": "A5nvi4TcToKn"
      },
      "execution_count": null,
      "outputs": []
    },
    {
      "cell_type": "code",
      "source": [
        "df = pd.read_csv(\"agro_vet_sales_data.csv\")\n",
        "print(df.shape)\n",
        "df.head()\n"
      ],
      "metadata": {
        "id": "q0Xcck0dToNX"
      },
      "execution_count": null,
      "outputs": []
    },
    {
      "cell_type": "code",
      "source": [
        "df.info()\n",
        "df.describe()\n",
        "df.isnull().sum()\n"
      ],
      "metadata": {
        "id": "BlIPG4-uToP2"
      },
      "execution_count": null,
      "outputs": []
    },
    {
      "cell_type": "code",
      "source": [
        "df = df.dropna()\n",
        "df = df[df['Total_Sales'] > 0]\n"
      ],
      "metadata": {
        "id": "ecrGFwIbToS5"
      },
      "execution_count": null,
      "outputs": []
    },
    {
      "cell_type": "code",
      "source": [
        "# Sales trend over time\n",
        "plt.figure(figsize=(12,6))\n",
        "df.groupby('Date')['Total_Sales'].sum().plot()\n",
        "plt.title(\"Total Sales Over Time\")\n",
        "plt.xlabel(\"Date\")\n",
        "plt.ylabel(\"Total Sales (BDT)\")\n",
        "plt.show()\n",
        "\n",
        "\n"
      ],
      "metadata": {
        "id": "HqQ1g243ToVF"
      },
      "execution_count": null,
      "outputs": []
    },
    {
      "cell_type": "code",
      "source": [
        "# Product-wise average sales\n",
        "plt.figure(figsize=(12,6))\n",
        "sns.barplot(data=df.groupby('Product_Name')['Total_Sales'].mean().reset_index(),\n",
        "            x='Product_Name', y='Total_Sales')\n",
        "plt.title(\"Average Sales per Product\")\n",
        "plt.xticks(rotation=45)\n",
        "plt.show()\n"
      ],
      "metadata": {
        "id": "v2vsq8YcT4So"
      },
      "execution_count": null,
      "outputs": []
    },
    {
      "cell_type": "code",
      "source": [
        "df['Date'] = pd.to_datetime(df['Date'])\n",
        "df['Month'] = df['Date'].dt.month\n",
        "df['Year'] = df['Date'].dt.year\n",
        "df['Is_Promotion'] = df['Promotion'].map({'Yes':1, 'No':0})\n",
        "df = df.drop(columns=['Promotion', 'Date'])\n"
      ],
      "metadata": {
        "id": "6ls_Yt2BT6hn"
      },
      "execution_count": null,
      "outputs": []
    },
    {
      "cell_type": "code",
      "source": [
        "le = LabelEncoder()\n",
        "for col in ['Product_Name', 'Category', 'Region']:\n",
        "    df[col] = le.fit_transform(df[col])\n"
      ],
      "metadata": {
        "id": "0oPtjxsDT6uP"
      },
      "execution_count": null,
      "outputs": []
    },
    {
      "cell_type": "code",
      "source": [
        "X = df.drop(columns=['Total_Sales'])\n",
        "y = df['Total_Sales']\n",
        "\n",
        "X_train, X_test, y_train, y_test = train_test_split(X, y, test_size=0.2, random_state=42)\n"
      ],
      "metadata": {
        "id": "_fm48rSDT6w-"
      },
      "execution_count": null,
      "outputs": []
    },
    {
      "cell_type": "code",
      "source": [
        "scaler = StandardScaler()\n",
        "X_train_scaled = scaler.fit_transform(X_train)\n",
        "X_test_scaled = scaler.transform(X_test)\n"
      ],
      "metadata": {
        "id": "Fw1MODswT6zn"
      },
      "execution_count": null,
      "outputs": []
    },
    {
      "cell_type": "code",
      "source": [
        "model = RandomForestRegressor(n_estimators=200, random_state=42)\n",
        "model.fit(X_train_scaled, y_train)\n",
        "y_pred = model.predict(X_test_scaled)\n"
      ],
      "metadata": {
        "id": "Dokk0cQmT62F"
      },
      "execution_count": null,
      "outputs": []
    },
    {
      "cell_type": "code",
      "source": [
        "mae = mean_absolute_error(y_test, y_pred)\n",
        "rmse = np.sqrt(mean_squared_error(y_test, y_pred))\n",
        "r2 = r2_score(y_test, y_pred)\n",
        "\n",
        "print(\"MAE:\", mae)\n",
        "print(\"RMSE:\", rmse)\n",
        "print(\"R² Score:\", r2)\n"
      ],
      "metadata": {
        "id": "LqTqsiqcT64f"
      },
      "execution_count": null,
      "outputs": []
    },
    {
      "cell_type": "code",
      "source": [
        "importances = pd.Series(model.feature_importances_, index=X.columns)\n",
        "importances.sort_values(ascending=False).plot(kind='bar', figsize=(10,6))\n",
        "plt.title(\"Feature Importance in Sales Prediction\")\n",
        "plt.show()\n"
      ],
      "metadata": {
        "id": "N7Zm00liT67X"
      },
      "execution_count": null,
      "outputs": []
    },
    {
      "cell_type": "code",
      "source": [
        "# Future prediction (example)\n",
        "future_data = X_test.iloc[:5].copy()\n",
        "future_data['Month'] = (future_data['Month'] % 12) + 1  # next month\n",
        "next_month_pred = model.predict(future_data)\n",
        "print(\"Predicted next month sales (sample):\")\n",
        "print(next_month_pred)\n"
      ],
      "metadata": {
        "id": "zdpaWW5sToXv"
      },
      "execution_count": null,
      "outputs": []
    },
    {
      "cell_type": "code",
      "source": [
        "plt.figure(figsize=(10,6))\n",
        "plt.plot(y_test.values[:30], label='Actual', marker='o')\n",
        "plt.plot(y_pred[:30], label='Predicted', marker='x')\n",
        "plt.title(\"Actual vs Predicted Sales (Sample)\")\n",
        "plt.xlabel(\"Sample Index\")\n",
        "plt.ylabel(\"Sales (BDT)\")\n",
        "plt.legend()\n",
        "plt.show()\n"
      ],
      "metadata": {
        "id": "fJsCO1a7UJ3_"
      },
      "execution_count": null,
      "outputs": []
    },
    {
      "cell_type": "markdown",
      "source": [],
      "metadata": {
        "id": "Xn4MNaSbUSBP"
      }
    },
    {
      "cell_type": "markdown",
      "source": [
        " Business Insights\n",
        "\n",
        " Top features influencing sales (from feature importance).\n",
        " Seasonal trend shows which month has high demand.\n",
        "Promotion impact measurable.\n",
        " Can help agro/vet companies optimize inventory & marketing."
      ],
      "metadata": {
        "id": "w81HRRJhUSGO"
      }
    },
    {
      "cell_type": "code",
      "source": [],
      "metadata": {
        "id": "WM5TT-2OUJ7G"
      },
      "execution_count": null,
      "outputs": []
    },
    {
      "cell_type": "code",
      "source": [],
      "metadata": {
        "id": "tH_87S_2UJ-d"
      },
      "execution_count": null,
      "outputs": []
    }
  ]
}